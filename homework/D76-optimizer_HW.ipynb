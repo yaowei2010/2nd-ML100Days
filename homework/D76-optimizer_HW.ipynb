{
 "cells": [
  {
   "cell_type": "markdown",
   "metadata": {},
   "source": [
    "# 作業重點:\n",
    "\n",
    "(1)以, Adam, 為例, 調整 batch_size, epoch , 觀察accurancy, loss 的變化\n",
    "\n",
    "(2)以同一模型, 分別驗證 SGD, Adam, Rmsprop 的 accurancy"
   ]
  },
  {
   "cell_type": "markdown",
   "metadata": {},
   "source": [
    "# 作業目標:\n",
    "    \n",
    "    取得各種優化器的運算結果"
   ]
  },
  {
   "cell_type": "code",
   "execution_count": 1,
   "metadata": {},
   "outputs": [
    {
     "name": "stderr",
     "output_type": "stream",
     "text": [
      "Using TensorFlow backend.\n"
     ]
    }
   ],
   "source": [
    "from __future__ import print_function\n",
    "import keras\n",
    "from keras.datasets import cifar10\n",
    "from keras.preprocessing.image import ImageDataGenerator\n",
    "from keras.models import Sequential\n",
    "from keras.layers import Dense, Dropout, Activation, Flatten\n",
    "from keras.layers import Conv2D, MaxPooling2D\n",
    "import os\n",
    "from keras import optimizers\n"
   ]
  },
  {
   "cell_type": "code",
   "execution_count": 2,
   "metadata": {},
   "outputs": [],
   "source": [
    "#Blas GEMM launch failed , 避免動態分配GPU / CPU, 出現問題\n",
    "import tensorflow as tf\n",
    "gpu_options = tf.GPUOptions(per_process_gpu_memory_fraction=0.333)\n",
    "sess = tf.Session(config=tf.ConfigProto(gpu_options=gpu_options))\n"
   ]
  },
  {
   "cell_type": "code",
   "execution_count": 3,
   "metadata": {},
   "outputs": [],
   "source": [
    "batch_size = 32\n",
    "epochs = 20\n",
    "'''\n",
    "   宣告並設定\n",
    "   batch_size：對總的樣本數進行分組，每組包含的樣本數量\n",
    "   epochs ：訓練次數\n",
    "   \n",
    "''' \n",
    "\n",
    "#batch_size = 32\n",
    "num_classes = 10\n",
    "#epochs = 20\n",
    "data_augmentation = True\n",
    "num_predictions = 20\n",
    "save_dir = os.path.join(os.getcwd(), 'saved_models')\n",
    "model_name = 'keras_cifar10_trained_model.h5'\n"
   ]
  },
  {
   "cell_type": "code",
   "execution_count": 4,
   "metadata": {},
   "outputs": [
    {
     "name": "stdout",
     "output_type": "stream",
     "text": [
      "x_train shape: (50000, 32, 32, 3)\n",
      "50000 train samples\n",
      "10000 test samples\n"
     ]
    }
   ],
   "source": [
    "\n",
    "# The data, split between train and test sets:\n",
    "(x_train, y_train), (x_test, y_test) = cifar10.load_data()\n",
    "print('x_train shape:', x_train.shape)\n",
    "print(x_train.shape[0], 'train samples')\n",
    "print(x_test.shape[0], 'test samples')\n",
    "\n",
    "# Convert class vectors to binary class matrices.\n",
    "y_train = keras.utils.to_categorical(y_train, num_classes)\n",
    "y_test = keras.utils.to_categorical(y_test, num_classes)"
   ]
  },
  {
   "cell_type": "code",
   "execution_count": 5,
   "metadata": {},
   "outputs": [
    {
     "name": "stdout",
     "output_type": "stream",
     "text": [
      "WARNING:tensorflow:From C:\\Users\\WillisCheng\\.conda\\envs\\tensorflow_cpu\\lib\\site-packages\\tensorflow\\python\\framework\\op_def_library.py:263: colocate_with (from tensorflow.python.framework.ops) is deprecated and will be removed in a future version.\n",
      "Instructions for updating:\n",
      "Colocations handled automatically by placer.\n",
      "WARNING:tensorflow:From C:\\Users\\WillisCheng\\.conda\\envs\\tensorflow_cpu\\lib\\site-packages\\keras\\backend\\tensorflow_backend.py:3445: calling dropout (from tensorflow.python.ops.nn_ops) with keep_prob is deprecated and will be removed in a future version.\n",
      "Instructions for updating:\n",
      "Please use `rate` instead of `keep_prob`. Rate should be set to `rate = 1 - keep_prob`.\n"
     ]
    }
   ],
   "source": [
    "#    第一步：選擇模型, 順序模型是多個網絡層的線性堆疊\n",
    " \n",
    "model = Sequential()\n",
    "\n",
    "#   第二步：構建網絡層\n",
    "model.add(Conv2D(32, (3, 3), padding='same',\n",
    "                 input_shape=x_train.shape[1:]))\n",
    "model.add(Activation('relu'))\n",
    "model.add(Conv2D(32, (3, 3)))\n",
    "model.add(Activation('relu'))\n",
    "model.add(MaxPooling2D(pool_size=(2, 2)))\n",
    "model.add(Dropout(0.25))\n",
    "\n",
    "model.add(Conv2D(64, (3, 3), padding='same'))\n",
    "model.add(Activation('relu'))\n",
    "model.add(Conv2D(64, (3, 3)))\n",
    "model.add(Activation('relu'))\n",
    "model.add(MaxPooling2D(pool_size=(2, 2)))\n",
    "model.add(Dropout(0.25))\n",
    "\n",
    "model.add(Flatten())\n",
    "model.add(Dense(512))\n",
    "model.add(Activation('relu'))\n",
    "model.add(Dropout(0.5))\n",
    "\n",
    "model.add(Dense( 10)) # 輸出結果是10個類別，所以維度是10   \n",
    "model.add(Activation('softmax')) # 最後一層用softmax作為激活函數"
   ]
  },
  {
   "cell_type": "code",
   "execution_count": 6,
   "metadata": {},
   "outputs": [
    {
     "name": "stdout",
     "output_type": "stream",
     "text": [
      "Total Parameters：1250858\n"
     ]
    }
   ],
   "source": [
    "# 模型建立完成後，統計參數總量\n",
    "print(\"Total Parameters：%d\" % model.count_params())"
   ]
  },
  {
   "cell_type": "code",
   "execution_count": 7,
   "metadata": {},
   "outputs": [
    {
     "name": "stdout",
     "output_type": "stream",
     "text": [
      "_________________________________________________________________\n",
      "Layer (type)                 Output Shape              Param #   \n",
      "=================================================================\n",
      "conv2d_1 (Conv2D)            (None, 32, 32, 32)        896       \n",
      "_________________________________________________________________\n",
      "activation_1 (Activation)    (None, 32, 32, 32)        0         \n",
      "_________________________________________________________________\n",
      "conv2d_2 (Conv2D)            (None, 30, 30, 32)        9248      \n",
      "_________________________________________________________________\n",
      "activation_2 (Activation)    (None, 30, 30, 32)        0         \n",
      "_________________________________________________________________\n",
      "max_pooling2d_1 (MaxPooling2 (None, 15, 15, 32)        0         \n",
      "_________________________________________________________________\n",
      "dropout_1 (Dropout)          (None, 15, 15, 32)        0         \n",
      "_________________________________________________________________\n",
      "conv2d_3 (Conv2D)            (None, 15, 15, 64)        18496     \n",
      "_________________________________________________________________\n",
      "activation_3 (Activation)    (None, 15, 15, 64)        0         \n",
      "_________________________________________________________________\n",
      "conv2d_4 (Conv2D)            (None, 13, 13, 64)        36928     \n",
      "_________________________________________________________________\n",
      "activation_4 (Activation)    (None, 13, 13, 64)        0         \n",
      "_________________________________________________________________\n",
      "max_pooling2d_2 (MaxPooling2 (None, 6, 6, 64)          0         \n",
      "_________________________________________________________________\n",
      "dropout_2 (Dropout)          (None, 6, 6, 64)          0         \n",
      "_________________________________________________________________\n",
      "flatten_1 (Flatten)          (None, 2304)              0         \n",
      "_________________________________________________________________\n",
      "dense_1 (Dense)              (None, 512)               1180160   \n",
      "_________________________________________________________________\n",
      "activation_5 (Activation)    (None, 512)               0         \n",
      "_________________________________________________________________\n",
      "dropout_3 (Dropout)          (None, 512)               0         \n",
      "_________________________________________________________________\n",
      "dense_2 (Dense)              (None, 10)                5130      \n",
      "_________________________________________________________________\n",
      "activation_6 (Activation)    (None, 10)                0         \n",
      "=================================================================\n",
      "Total params: 1,250,858\n",
      "Trainable params: 1,250,858\n",
      "Non-trainable params: 0\n",
      "_________________________________________________________________\n"
     ]
    }
   ],
   "source": [
    "# 輸出模型摘要資訊\n",
    "model.summary()"
   ]
  },
  {
   "cell_type": "code",
   "execution_count": 13,
   "metadata": {},
   "outputs": [],
   "source": [
    "#第三步編譯\n",
    "'''\n",
    " SGD(隨機梯度下降) - Arguments\n",
    "lr: float >= 0. Learning rate.\n",
    "momentum: float >= 0. Parameter that accelerates SGD in the relevant direction and dampens oscillations.\n",
    "decay: float >= 0. Learning rate decay over each update.\n",
    "nesterov: boolean. Whether to apply Nesterov momentum.\n",
    "'''\n",
    "\n",
    "'''\n",
    "RMSprop- Arguments\n",
    "lr: float >= 0. Learning rate.\n",
    "rho: float >= 0.\n",
    "epsilon: float >= 0. Fuzz factor. If None, defaults to K.epsilon().\n",
    "decay: float >= 0. Learning rate decay over each update.\n",
    "'''\n",
    "\n",
    "'''\n",
    "Example:\n",
    "opt = optimizers.SGD(lr=0.01, decay=1e-6, momentum=0.9, nesterov=True)\n",
    "'''\n",
    "opt = optimizers.adam(lr=0.001, beta_1=0.9, beta_2=0.999, epsilon=None, decay=0.0, amsgrad=False)\n",
    "model.compile(optimizer = opt, loss = 'categorical_crossentropy', metrics = ['accuracy'])\n"
   ]
  },
  {
   "cell_type": "code",
   "execution_count": 14,
   "metadata": {},
   "outputs": [],
   "source": [
    "# 資料正規化\n",
    "x_train = x_train.astype('float32')\n",
    "x_test = x_test.astype('float32')\n",
    "x_train /= 255\n",
    "x_test /= 255\n"
   ]
  },
  {
   "cell_type": "code",
   "execution_count": 15,
   "metadata": {},
   "outputs": [
    {
     "name": "stdout",
     "output_type": "stream",
     "text": [
      "Using real-time data augmentation.\n",
      "\n",
      "WARNING:tensorflow:From C:\\Users\\WillisCheng\\.conda\\envs\\tensorflow_cpu\\lib\\site-packages\\tensorflow\\python\\ops\\math_ops.py:3066: to_int32 (from tensorflow.python.ops.math_ops) is deprecated and will be removed in a future version.\n",
      "Instructions for updating:\n",
      "Use tf.cast instead.\n",
      "Train on 50000 samples, validate on 10000 samples\n",
      "Epoch 1/20\n",
      "50000/50000 [==============================] - 131s 3ms/step - loss: 1.5216 - acc: 0.4475 - val_loss: 1.1962 - val_acc: 0.5677\n",
      "Epoch 2/20\n",
      "50000/50000 [==============================] - 133s 3ms/step - loss: 1.1244 - acc: 0.5984 - val_loss: 0.9292 - val_acc: 0.6743\n",
      "Epoch 3/20\n",
      "50000/50000 [==============================] - 134s 3ms/step - loss: 0.9556 - acc: 0.6632 - val_loss: 0.8408 - val_acc: 0.7059\n",
      "Epoch 4/20\n",
      "50000/50000 [==============================] - 134s 3ms/step - loss: 0.8650 - acc: 0.6938 - val_loss: 0.7692 - val_acc: 0.7290\n",
      "Epoch 5/20\n",
      "50000/50000 [==============================] - 134s 3ms/step - loss: 0.8072 - acc: 0.7155 - val_loss: 0.7569 - val_acc: 0.7381\n",
      "Epoch 6/20\n",
      "50000/50000 [==============================] - 134s 3ms/step - loss: 0.7580 - acc: 0.7343 - val_loss: 0.7638 - val_acc: 0.7354\n",
      "Epoch 7/20\n",
      "50000/50000 [==============================] - 135s 3ms/step - loss: 0.7231 - acc: 0.7461 - val_loss: 0.6887 - val_acc: 0.7633\n",
      "Epoch 8/20\n",
      "50000/50000 [==============================] - 140s 3ms/step - loss: 0.6916 - acc: 0.7589 - val_loss: 0.6733 - val_acc: 0.7655\n",
      "Epoch 9/20\n",
      "50000/50000 [==============================] - 135s 3ms/step - loss: 0.6572 - acc: 0.7687 - val_loss: 0.6702 - val_acc: 0.7692\n",
      "Epoch 10/20\n",
      "50000/50000 [==============================] - 135s 3ms/step - loss: 0.6337 - acc: 0.7772 - val_loss: 0.6709 - val_acc: 0.7684\n",
      "Epoch 11/20\n",
      "50000/50000 [==============================] - 141s 3ms/step - loss: 0.6150 - acc: 0.7843 - val_loss: 0.6879 - val_acc: 0.7628\n",
      "Epoch 12/20\n",
      "50000/50000 [==============================] - 137s 3ms/step - loss: 0.5966 - acc: 0.7909 - val_loss: 0.6398 - val_acc: 0.7823\n",
      "Epoch 13/20\n",
      "50000/50000 [==============================] - 136s 3ms/step - loss: 0.5787 - acc: 0.7956 - val_loss: 0.6688 - val_acc: 0.7768\n",
      "Epoch 14/20\n",
      "50000/50000 [==============================] - 139s 3ms/step - loss: 0.5724 - acc: 0.7983 - val_loss: 0.6610 - val_acc: 0.7743\n",
      "Epoch 15/20\n",
      "50000/50000 [==============================] - 143s 3ms/step - loss: 0.5543 - acc: 0.8048 - val_loss: 0.6471 - val_acc: 0.7850\n",
      "Epoch 16/20\n",
      "50000/50000 [==============================] - 139s 3ms/step - loss: 0.5364 - acc: 0.8105 - val_loss: 0.6419 - val_acc: 0.7805\n",
      "Epoch 17/20\n",
      "50000/50000 [==============================] - 142s 3ms/step - loss: 0.5249 - acc: 0.8152 - val_loss: 0.6469 - val_acc: 0.7883\n",
      "Epoch 18/20\n",
      "50000/50000 [==============================] - 142s 3ms/step - loss: 0.5151 - acc: 0.8186 - val_loss: 0.6565 - val_acc: 0.7822\n",
      "Epoch 19/20\n",
      "50000/50000 [==============================] - 140s 3ms/step - loss: 0.5023 - acc: 0.8246 - val_loss: 0.6315 - val_acc: 0.7877\n",
      "Epoch 20/20\n",
      "50000/50000 [==============================] - 144s 3ms/step - loss: 0.4999 - acc: 0.8227 - val_loss: 0.6751 - val_acc: 0.7827\n"
     ]
    },
    {
     "data": {
      "text/plain": [
       "'\\n   第四步：訓練\\n   .fit的一些參數\\n   batch_size：對總的樣本數進行分組，每組包含的樣本數量\\n   epochs ：訓練次數\\n   shuffle：是否把數據隨機打亂之後再進行訓練\\n   validation_split：拿出百分之多少用來做交叉驗證\\n   verbose：屏顯模式 - 0：不輸出, 1：輸出進度, 2：輸出每次的訓練結果\\n'"
      ]
     },
     "execution_count": 15,
     "metadata": {},
     "output_type": "execute_result"
    }
   ],
   "source": [
    "# 是否要做資料處理\n",
    "if not data_augmentation:\n",
    "    print('Not using data augmentation.')\n",
    "    history=model.fit(x_train, y_train,\n",
    "              batch_size=batch_size,\n",
    "              epochs=epochs,\n",
    "              validation_data=(x_test, y_test),\n",
    "              shuffle=True)\n",
    "else:\n",
    "    print('Using real-time data augmentation.')\n",
    "    print('')\n",
    "        \n",
    "    # This will do preprocessing and realtime data augmentation:\n",
    "    datagen = ImageDataGenerator(\n",
    "        featurewise_center=False,  # set input mean to 0 over the dataset\n",
    "        samplewise_center=False,  # set each sample mean to 0\n",
    "        featurewise_std_normalization=False,  # divide inputs by std of the dataset\n",
    "        samplewise_std_normalization=False,  # divide each input by its std\n",
    "        zca_whitening=False,  # apply ZCA whitening\n",
    "        zca_epsilon=1e-06,  # epsilon for ZCA whitening\n",
    "        rotation_range=0,  # randomly rotate images in the range (degrees, 0 to 180)\n",
    "        # randomly shift images horizontally (fraction of total width)\n",
    "        width_shift_range=0.1,\n",
    "        # randomly shift images vertically (fraction of total height)\n",
    "        height_shift_range=0.1,\n",
    "        shear_range=0.,  # set range for random shear\n",
    "        zoom_range=0.,  # set range for random zoom\n",
    "        channel_shift_range=0.,  # set range for random channel shifts\n",
    "        # set mode for filling points outside the input boundaries\n",
    "        fill_mode='nearest',\n",
    "        cval=0.,  # value used for fill_mode = \"constant\"\n",
    "        horizontal_flip=True,  # randomly flip images\n",
    "        vertical_flip=False,  # randomly flip images\n",
    "        # set rescaling factor (applied before any other transformation)\n",
    "        rescale=None,\n",
    "        # set function that will be applied on each input\n",
    "        preprocessing_function=None,\n",
    "        # image data format, either \"channels_first\" or \"channels_last\"\n",
    "        data_format=None,\n",
    "        # fraction of images reserved for validation (strictly between 0 and 1)\n",
    "        validation_split=0.0)\n",
    "\n",
    "    # Compute quantities required for feature-wise normalization\n",
    "    # (std, mean, and principal components if ZCA whitening is applied).\n",
    "    datagen.fit(x_train)\n",
    "    history=model.fit(x_train, y_train,\n",
    "              batch_size=batch_size,\n",
    "              epochs=epochs,\n",
    "              validation_data=(x_test, y_test),\n",
    "              shuffle=True)   \n",
    "\n",
    "'''\n",
    "   第四步：訓練\n",
    "   .fit的一些參數\n",
    "   batch_size：對總的樣本數進行分組，每組包含的樣本數量\n",
    "   epochs ：訓練次數\n",
    "   shuffle：是否把數據隨機打亂之後再進行訓練\n",
    "   validation_split：拿出百分之多少用來做交叉驗證\n",
    "   verbose：屏顯模式 - 0：不輸出, 1：輸出進度, 2：輸出每次的訓練結果\n",
    "''' \n",
    "    "
   ]
  },
  {
   "cell_type": "code",
   "execution_count": 16,
   "metadata": {},
   "outputs": [
    {
     "name": "stdout",
     "output_type": "stream",
     "text": [
      "Saved trained model at C:\\Users\\WillisCheng\\saved_models\\keras_cifar10_trained_model.h5 \n",
      "10000/10000 [==============================] - 8s 840us/step\n",
      "Test loss: 0.6751028868198394\n",
      "Test accuracy: 0.7827\n"
     ]
    }
   ],
   "source": [
    "# Save model and weights\n",
    "if not os.path.isdir(save_dir):\n",
    "    os.makedirs(save_dir)\n",
    "model_path = os.path.join(save_dir, model_name)\n",
    "model.save(model_path)\n",
    "print('Saved trained model at %s ' % model_path)\n",
    "\n",
    "# Score trained model.\n",
    "scores = model.evaluate(x_test, y_test, verbose=1)\n",
    "print('Test loss:', scores[0])\n",
    "print('Test accuracy:', scores[1])"
   ]
  },
  {
   "cell_type": "code",
   "execution_count": 17,
   "metadata": {},
   "outputs": [
    {
     "name": "stdout",
     "output_type": "stream",
     "text": [
      " test set \n",
      "\n",
      " The test loss is %f  [0.6751028800010681, 0.7826999974250793]\n"
     ]
    }
   ],
   "source": [
    "#    第六步：輸出\n",
    "import numpy \n",
    "\n",
    "print ( \" test set \" )\n",
    "scores = model.evaluate(x_test,y_test,batch_size=200,verbose= 0)\n",
    "print ( \"\" )\n",
    "#print ( \" The test loss is %f \" % scores)\n",
    "print ( \" The test loss is %f \", scores)\n",
    "\n",
    "\n",
    "result = model.predict(x_test,batch_size=200,verbose= 0)\n",
    "\n",
    "result_max = numpy.argmax(result, axis = 1 )\n",
    "test_max = numpy.argmax(y_test, axis = 1 )\n",
    "\n",
    "result_bool = numpy.equal(result_max, test_max)\n",
    "true_num = numpy.sum(result_bool)\n"
   ]
  },
  {
   "cell_type": "code",
   "execution_count": 18,
   "metadata": {},
   "outputs": [
    {
     "data": {
      "image/png": "[encoded data removed]",
      "text/plain": [
       "<Figure size 432x288 with 1 Axes>"
      ]
     },
     "metadata": {
      "needs_background": "light"
     },
     "output_type": "display_data"
    },
    {
     "data": {
      "image/png": "[encoded data removed]",
      "text/plain": [
       "<Figure size 432x288 with 1 Axes>"
      ]
     },
     "metadata": {
      "needs_background": "light"
     },
     "output_type": "display_data"
    }
   ],
   "source": [
    "import matplotlib.pyplot as plt\n",
    "%matplotlib inline\n",
    "\n",
    "# Plot training & validation accuracy values\n",
    "plt.plot(history.history['acc'])\n",
    "plt.plot(history.history['val_acc'])\n",
    "plt.title('Model accuracy')\n",
    "plt.ylabel('Accuracy')\n",
    "plt.xlabel('Epoch')\n",
    "plt.legend(['Train', 'Valiidation'], loc='upper left')\n",
    "plt.show()\n",
    "\n",
    "# Plot training & validation loss values\n",
    "plt.plot(history.history['loss'])\n",
    "plt.plot(history.history['val_loss'])\n",
    "plt.title('Model loss')\n",
    "plt.ylabel('Loss')\n",
    "plt.xlabel('Epoch')\n",
    "plt.legend(['Train', 'Valiidation'], loc='upper left')\n",
    "plt.show()"
   ]
  },
  {
   "cell_type": "code",
   "execution_count": null,
   "metadata": {},
   "outputs": [],
   "source": [
    "#SGD, Adam, Rmsprop"
   ]
  },
  {
   "cell_type": "code",
   "execution_count": 19,
   "metadata": {},
   "outputs": [
    {
     "name": "stdout",
     "output_type": "stream",
     "text": [
      "Using real-time data augmentation.\n",
      "\n",
      "Train on 50000 samples, validate on 10000 samples\n",
      "Epoch 1/20\n",
      "50000/50000 [==============================] - 128s 3ms/step - loss: 0.4933 - acc: 0.8265 - val_loss: 0.6519 - val_acc: 0.7910\n",
      "Epoch 2/20\n",
      "50000/50000 [==============================] - 131s 3ms/step - loss: 0.4522 - acc: 0.8420 - val_loss: 0.6903 - val_acc: 0.7772\n",
      "Epoch 3/20\n",
      "50000/50000 [==============================] - 129s 3ms/step - loss: 0.4363 - acc: 0.8456 - val_loss: 0.7066 - val_acc: 0.7824\n",
      "Epoch 4/20\n",
      "50000/50000 [==============================] - 129s 3ms/step - loss: 0.4270 - acc: 0.8489 - val_loss: 0.6444 - val_acc: 0.7956\n",
      "Epoch 5/20\n",
      "50000/50000 [==============================] - 131s 3ms/step - loss: 0.4116 - acc: 0.8551 - val_loss: 0.6497 - val_acc: 0.7956\n",
      "Epoch 6/20\n",
      "50000/50000 [==============================] - 130s 3ms/step - loss: 0.4073 - acc: 0.8556 - val_loss: 0.6648 - val_acc: 0.7945\n",
      "Epoch 7/20\n",
      "50000/50000 [==============================] - 130s 3ms/step - loss: 0.3969 - acc: 0.8593 - val_loss: 0.6462 - val_acc: 0.8010\n",
      "Epoch 8/20\n",
      "50000/50000 [==============================] - 130s 3ms/step - loss: 0.3926 - acc: 0.8606 - val_loss: 0.6535 - val_acc: 0.7979\n",
      "Epoch 9/20\n",
      "50000/50000 [==============================] - 134s 3ms/step - loss: 0.3895 - acc: 0.8618 - val_loss: 0.6643 - val_acc: 0.7961\n",
      "Epoch 10/20\n",
      "50000/50000 [==============================] - 135s 3ms/step - loss: 0.3884 - acc: 0.8624 - val_loss: 0.6487 - val_acc: 0.7989\n",
      "Epoch 11/20\n",
      "50000/50000 [==============================] - 128s 3ms/step - loss: 0.3834 - acc: 0.8629 - val_loss: 0.6979 - val_acc: 0.7909\n",
      "Epoch 12/20\n",
      "50000/50000 [==============================] - 133s 3ms/step - loss: 0.3827 - acc: 0.8649 - val_loss: 0.6757 - val_acc: 0.7943\n",
      "Epoch 13/20\n",
      "50000/50000 [==============================] - 132s 3ms/step - loss: 0.3848 - acc: 0.8654 - val_loss: 0.6525 - val_acc: 0.7967\n",
      "Epoch 14/20\n",
      "50000/50000 [==============================] - 136s 3ms/step - loss: 0.3825 - acc: 0.8637 - val_loss: 0.6575 - val_acc: 0.7957\n",
      "Epoch 15/20\n",
      "50000/50000 [==============================] - 138s 3ms/step - loss: 0.3721 - acc: 0.8682 - val_loss: 0.6873 - val_acc: 0.7941\n",
      "Epoch 16/20\n",
      "50000/50000 [==============================] - 131s 3ms/step - loss: 0.3721 - acc: 0.8687 - val_loss: 0.6741 - val_acc: 0.7912\n",
      "Epoch 17/20\n",
      "50000/50000 [==============================] - 131s 3ms/step - loss: 0.3729 - acc: 0.8680 - val_loss: 0.6424 - val_acc: 0.7973\n",
      "Epoch 18/20\n",
      "50000/50000 [==============================] - 136s 3ms/step - loss: 0.3685 - acc: 0.8697 - val_loss: 0.6553 - val_acc: 0.8000\n",
      "Epoch 19/20\n",
      "50000/50000 [==============================] - 136s 3ms/step - loss: 0.3700 - acc: 0.8677 - val_loss: 0.6584 - val_acc: 0.7977\n",
      "Epoch 20/20\n",
      "50000/50000 [==============================] - 131s 3ms/step - loss: 0.3639 - acc: 0.8685 - val_loss: 0.6647 - val_acc: 0.7991\n",
      "10000/10000 [==============================] - 10s 1ms/step\n",
      "Test loss: 0.6647497184753418\n",
      "Test accuracy: 0.7991\n"
     ]
    }
   ],
   "source": [
    "opt = optimizers.SGD(lr=0.01, momentum=0.0, decay=0.0, nesterov=False)\n",
    "model.compile(optimizer = opt, loss = 'categorical_crossentropy', metrics = ['accuracy'])\n",
    "#SGD\n",
    "# 是否要做資料處理\n",
    "if not data_augmentation:\n",
    "    print('Not using data augmentation.')\n",
    "    history=model.fit(x_train, y_train,\n",
    "              batch_size=batch_size,\n",
    "              epochs=epochs,\n",
    "              validation_data=(x_test, y_test),\n",
    "              shuffle=True)\n",
    "else:\n",
    "    print('Using real-time data augmentation.')\n",
    "    print('')\n",
    "        \n",
    "    # This will do preprocessing and realtime data augmentation:\n",
    "    datagen = ImageDataGenerator(\n",
    "        featurewise_center=False,  # set input mean to 0 over the dataset\n",
    "        samplewise_center=False,  # set each sample mean to 0\n",
    "        featurewise_std_normalization=False,  # divide inputs by std of the dataset\n",
    "        samplewise_std_normalization=False,  # divide each input by its std\n",
    "        zca_whitening=False,  # apply ZCA whitening\n",
    "        zca_epsilon=1e-06,  # epsilon for ZCA whitening\n",
    "        rotation_range=0,  # randomly rotate images in the range (degrees, 0 to 180)\n",
    "        # randomly shift images horizontally (fraction of total width)\n",
    "        width_shift_range=0.1,\n",
    "        # randomly shift images vertically (fraction of total height)\n",
    "        height_shift_range=0.1,\n",
    "        shear_range=0.,  # set range for random shear\n",
    "        zoom_range=0.,  # set range for random zoom\n",
    "        channel_shift_range=0.,  # set range for random channel shifts\n",
    "        # set mode for filling points outside the input boundaries\n",
    "        fill_mode='nearest',\n",
    "        cval=0.,  # value used for fill_mode = \"constant\"\n",
    "        horizontal_flip=True,  # randomly flip images\n",
    "        vertical_flip=False,  # randomly flip images\n",
    "        # set rescaling factor (applied before any other transformation)\n",
    "        rescale=None,\n",
    "        # set function that will be applied on each input\n",
    "        preprocessing_function=None,\n",
    "        # image data format, either \"channels_first\" or \"channels_last\"\n",
    "        data_format=None,\n",
    "        # fraction of images reserved for validation (strictly between 0 and 1)\n",
    "        validation_split=0.0)\n",
    "\n",
    "    # Compute quantities required for feature-wise normalization\n",
    "    # (std, mean, and principal components if ZCA whitening is applied).\n",
    "    datagen.fit(x_train)\n",
    "    history=model.fit(x_train, y_train,\n",
    "              batch_size=batch_size,\n",
    "              epochs=epochs,\n",
    "              validation_data=(x_test, y_test),\n",
    "              shuffle=True)   \n",
    "    \n",
    "scores = model.evaluate(x_test, y_test, verbose=1)\n",
    "print('Test loss:', scores[0])\n",
    "print('Test accuracy:', scores[1])"
   ]
  },
  {
   "cell_type": "code",
   "execution_count": 20,
   "metadata": {},
   "outputs": [
    {
     "name": "stdout",
     "output_type": "stream",
     "text": [
      "Using real-time data augmentation.\n",
      "\n",
      "Train on 50000 samples, validate on 10000 samples\n",
      "Epoch 1/20\n",
      "50000/50000 [==============================] - 132s 3ms/step - loss: 0.5074 - acc: 0.8296 - val_loss: 0.7442 - val_acc: 0.7850\n",
      "Epoch 2/20\n",
      "50000/50000 [==============================] - 135s 3ms/step - loss: 0.5918 - acc: 0.8039 - val_loss: 0.7505 - val_acc: 0.7796\n",
      "Epoch 3/20\n",
      "50000/50000 [==============================] - 134s 3ms/step - loss: 0.6823 - acc: 0.7799 - val_loss: 0.7541 - val_acc: 0.7743\n",
      "Epoch 4/20\n",
      "50000/50000 [==============================] - 134s 3ms/step - loss: 0.8043 - acc: 0.7472 - val_loss: 0.8687 - val_acc: 0.7390\n",
      "Epoch 5/20\n",
      "50000/50000 [==============================] - 137s 3ms/step - loss: 0.8939 - acc: 0.7210 - val_loss: 0.8571 - val_acc: 0.7180\n",
      "Epoch 6/20\n",
      "50000/50000 [==============================] - 139s 3ms/step - loss: 0.9783 - acc: 0.6971 - val_loss: 1.0304 - val_acc: 0.6811\n",
      "Epoch 7/20\n",
      "50000/50000 [==============================] - 153s 3ms/step - loss: 1.0580 - acc: 0.6723 - val_loss: 0.9565 - val_acc: 0.6978\n",
      "Epoch 8/20\n",
      "50000/50000 [==============================] - 148s 3ms/step - loss: 1.1176 - acc: 0.6512 - val_loss: 1.0806 - val_acc: 0.6507\n",
      "Epoch 9/20\n",
      "50000/50000 [==============================] - 140s 3ms/step - loss: 1.1681 - acc: 0.6359 - val_loss: 1.2656 - val_acc: 0.5798\n",
      "Epoch 10/20\n",
      "50000/50000 [==============================] - 148s 3ms/step - loss: 1.2007 - acc: 0.6216 - val_loss: 1.2591 - val_acc: 0.5972\n",
      "Epoch 11/20\n",
      "50000/50000 [==============================] - 140s 3ms/step - loss: 1.2509 - acc: 0.6095 - val_loss: 1.0897 - val_acc: 0.6545\n",
      "Epoch 12/20\n",
      "50000/50000 [==============================] - 138s 3ms/step - loss: 1.2744 - acc: 0.6005 - val_loss: 1.1849 - val_acc: 0.5960\n",
      "Epoch 13/20\n",
      "50000/50000 [==============================] - 144s 3ms/step - loss: 1.3193 - acc: 0.5871 - val_loss: 1.1885 - val_acc: 0.6247\n",
      "Epoch 14/20\n",
      "50000/50000 [==============================] - 138s 3ms/step - loss: 1.3325 - acc: 0.5818 - val_loss: 1.1957 - val_acc: 0.6137\n",
      "Epoch 15/20\n",
      "50000/50000 [==============================] - 137s 3ms/step - loss: 1.3667 - acc: 0.5700 - val_loss: 1.3353 - val_acc: 0.5867\n",
      "Epoch 16/20\n",
      "50000/50000 [==============================] - 147s 3ms/step - loss: 1.3852 - acc: 0.5595 - val_loss: 1.2387 - val_acc: 0.5982\n",
      "Epoch 17/20\n",
      "50000/50000 [==============================] - 141s 3ms/step - loss: 1.4546 - acc: 0.5364 - val_loss: 1.1603 - val_acc: 0.6115\n",
      "Epoch 18/20\n",
      "50000/50000 [==============================] - 145s 3ms/step - loss: 1.4667 - acc: 0.5315 - val_loss: 1.1989 - val_acc: 0.5942\n",
      "Epoch 19/20\n",
      "50000/50000 [==============================] - 148s 3ms/step - loss: 1.5212 - acc: 0.5185 - val_loss: 1.5274 - val_acc: 0.4609\n",
      "Epoch 20/20\n",
      "50000/50000 [==============================] - 145s 3ms/step - loss: 1.5432 - acc: 0.5041 - val_loss: 1.3554 - val_acc: 0.5628 0s - loss: 1.5428 - acc\n",
      "10000/10000 [==============================] - 10s 1ms/step\n",
      "Test loss: 1.355367352294922\n",
      "Test accuracy: 0.5628\n"
     ]
    }
   ],
   "source": [
    "opt = optimizers.RMSprop(lr=0.001, rho=0.9, epsilon=None, decay=0.0)\n",
    "model.compile(optimizer = opt, loss = 'categorical_crossentropy', metrics = ['accuracy'])\n",
    "#Rmsprop\n",
    "# 是否要做資料處理\n",
    "if not data_augmentation:\n",
    "    print('Not using data augmentation.')\n",
    "    history=model.fit(x_train, y_train,\n",
    "              batch_size=batch_size,\n",
    "              epochs=epochs,\n",
    "              validation_data=(x_test, y_test),\n",
    "              shuffle=True)\n",
    "else:\n",
    "    print('Using real-time data augmentation.')\n",
    "    print('')\n",
    "        \n",
    "    # This will do preprocessing and realtime data augmentation:\n",
    "    datagen = ImageDataGenerator(\n",
    "        featurewise_center=False,  # set input mean to 0 over the dataset\n",
    "        samplewise_center=False,  # set each sample mean to 0\n",
    "        featurewise_std_normalization=False,  # divide inputs by std of the dataset\n",
    "        samplewise_std_normalization=False,  # divide each input by its std\n",
    "        zca_whitening=False,  # apply ZCA whitening\n",
    "        zca_epsilon=1e-06,  # epsilon for ZCA whitening\n",
    "        rotation_range=0,  # randomly rotate images in the range (degrees, 0 to 180)\n",
    "        # randomly shift images horizontally (fraction of total width)\n",
    "        width_shift_range=0.1,\n",
    "        # randomly shift images vertically (fraction of total height)\n",
    "        height_shift_range=0.1,\n",
    "        shear_range=0.,  # set range for random shear\n",
    "        zoom_range=0.,  # set range for random zoom\n",
    "        channel_shift_range=0.,  # set range for random channel shifts\n",
    "        # set mode for filling points outside the input boundaries\n",
    "        fill_mode='nearest',\n",
    "        cval=0.,  # value used for fill_mode = \"constant\"\n",
    "        horizontal_flip=True,  # randomly flip images\n",
    "        vertical_flip=False,  # randomly flip images\n",
    "        # set rescaling factor (applied before any other transformation)\n",
    "        rescale=None,\n",
    "        # set function that will be applied on each input\n",
    "        preprocessing_function=None,\n",
    "        # image data format, either \"channels_first\" or \"channels_last\"\n",
    "        data_format=None,\n",
    "        # fraction of images reserved for validation (strictly between 0 and 1)\n",
    "        validation_split=0.0)\n",
    "\n",
    "    # Compute quantities required for feature-wise normalization\n",
    "    # (std, mean, and principal components if ZCA whitening is applied).\n",
    "    datagen.fit(x_train)\n",
    "    history=model.fit(x_train, y_train,\n",
    "              batch_size=batch_size,\n",
    "              epochs=epochs,\n",
    "              validation_data=(x_test, y_test),\n",
    "              shuffle=True)   \n",
    "\n",
    "    \n",
    "scores = model.evaluate(x_test, y_test, verbose=1)\n",
    "print('Test loss:', scores[0])\n",
    "print('Test accuracy:', scores[1])"
   ]
  },
  {
   "cell_type": "code",
   "execution_count": null,
   "metadata": {},
   "outputs": [],
   "source": []
  }
 ],
 "metadata": {
  "kernelspec": {
   "display_name": "Python 3",
   "language": "python",
   "name": "python3"
  },
  "language_info": {
   "codemirror_mode": {
    "name": "ipython",
    "version": 3
   },
   "file_extension": ".py",
   "mimetype": "text/x-python",
   "name": "python",
   "nbconvert_exporter": "python",
   "pygments_lexer": "ipython3",
   "version": "3.6.8"
  }
 },
 "nbformat": 4,
 "nbformat_minor": 2
}
